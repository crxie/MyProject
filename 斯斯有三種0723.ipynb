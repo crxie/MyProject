{
 "cells": [
  {
   "cell_type": "code",
   "execution_count": 99,
   "metadata": {
    "collapsed": true
   },
   "outputs": [],
   "source": [
    "import numpy as np\n",
    "import pandas as pd\n",
    "import pymysql\n",
    "import matplotlib.pyplot as plt\n",
    "import seaborn as sns\n",
    "get_ipython().magic(u'matplotlib inline')\n",
    "sns.set_style('whitegrid') \n",
    "\n",
    "import warnings\n",
    "warnings.filterwarnings('ignore')"
   ]
  },
  {
   "cell_type": "code",
   "execution_count": 1,
   "metadata": {
    "collapsed": false
   },
   "outputs": [
    {
     "ename": "NameError",
     "evalue": "name 'pd' is not defined",
     "output_type": "error",
     "traceback": [
      "\u001b[1;31m---------------------------------------------------------------------------\u001b[0m",
      "\u001b[1;31mNameError\u001b[0m                                 Traceback (most recent call last)",
      "\u001b[1;32m<ipython-input-1-7d3b2c8e07b7>\u001b[0m in \u001b[0;36m<module>\u001b[1;34m()\u001b[0m\n\u001b[1;32m----> 1\u001b[1;33m \u001b[0mdata\u001b[0m \u001b[1;33m=\u001b[0m \u001b[0mpd\u001b[0m\u001b[1;33m.\u001b[0m\u001b[0mread_csv\u001b[0m\u001b[1;33m(\u001b[0m\u001b[1;34m'../論文csv/0722競標整理.csv'\u001b[0m\u001b[1;33m,\u001b[0m\u001b[0mencoding\u001b[0m\u001b[1;33m=\u001b[0m\u001b[1;34m'utf-8'\u001b[0m\u001b[1;33m)\u001b[0m\u001b[1;33m\u001b[0m\u001b[0m\n\u001b[0m\u001b[0;32m      2\u001b[0m \u001b[0mperson\u001b[0m \u001b[1;33m=\u001b[0m \u001b[0mpd\u001b[0m\u001b[1;33m.\u001b[0m\u001b[0mread_stata\u001b[0m\u001b[1;33m(\u001b[0m\u001b[1;34m'../論文csv/0722個人資訊.dta'\u001b[0m\u001b[1;33m,\u001b[0m\u001b[0mencoding\u001b[0m\u001b[1;33m=\u001b[0m\u001b[1;34m'utf-8'\u001b[0m\u001b[1;33m)\u001b[0m\u001b[1;33m\u001b[0m\u001b[0m\n",
      "\u001b[1;31mNameError\u001b[0m: name 'pd' is not defined"
     ]
    }
   ],
   "source": [
    "data = pd.read_stata('../論文csv/0722競標整理.dta',encoding='utf-8')\n",
    "person = pd.read_stata('../論文csv/0722個人資訊.dta',encoding='utf-8')"
   ]
  },
  {
   "cell_type": "code",
   "execution_count": 101,
   "metadata": {
    "collapsed": false
   },
   "outputs": [
    {
     "data": {
      "text/html": [
       "<div>\n",
       "<table border=\"1\" class=\"dataframe\">\n",
       "  <thead>\n",
       "    <tr style=\"text-align: right;\">\n",
       "      <th></th>\n",
       "      <th>index</th>\n",
       "      <th>date</th>\n",
       "      <th>final_price</th>\n",
       "      <th>mer_id</th>\n",
       "      <th>mer_category</th>\n",
       "      <th>mer_name</th>\n",
       "      <th>new</th>\n",
       "      <th>suggested_price</th>\n",
       "      <th>winner</th>\n",
       "      <th>start_time</th>\n",
       "      <th>name</th>\n",
       "      <th>bids_in_auction</th>\n",
       "      <th>auto_in_auction</th>\n",
       "      <th>auction_profit</th>\n",
       "      <th>auction_profit96</th>\n",
       "      <th>auction_profit93</th>\n",
       "    </tr>\n",
       "  </thead>\n",
       "  <tbody>\n",
       "    <tr>\n",
       "      <th>0</th>\n",
       "      <td>0</td>\n",
       "      <td>2016/03/24</td>\n",
       "      <td>380</td>\n",
       "      <td>18212</td>\n",
       "      <td>名牌配件</td>\n",
       "      <td>PORTER 和諧童趣 JUPITER</td>\n",
       "      <td>1</td>\n",
       "      <td>5850</td>\n",
       "      <td>沖沖沖</td>\n",
       "      <td>21:20</td>\n",
       "      <td>沖沖沖</td>\n",
       "      <td>140</td>\n",
       "      <td>126</td>\n",
       "      <td>1970</td>\n",
       "      <td>2010</td>\n",
       "      <td>2115</td>\n",
       "    </tr>\n",
       "    <tr>\n",
       "      <th>1</th>\n",
       "      <td>1</td>\n",
       "      <td>2016/03/24</td>\n",
       "      <td>380</td>\n",
       "      <td>18212</td>\n",
       "      <td>名牌配件</td>\n",
       "      <td>PORTER 和諧童趣 JUPITER</td>\n",
       "      <td>1</td>\n",
       "      <td>5850</td>\n",
       "      <td>沖沖沖</td>\n",
       "      <td>21:20</td>\n",
       "      <td>pat1011</td>\n",
       "      <td>166</td>\n",
       "      <td>63</td>\n",
       "      <td>-4150</td>\n",
       "      <td>-3984</td>\n",
       "      <td>-3859.5</td>\n",
       "    </tr>\n",
       "    <tr>\n",
       "      <th>2</th>\n",
       "      <td>2</td>\n",
       "      <td>2016/03/24</td>\n",
       "      <td>380</td>\n",
       "      <td>18212</td>\n",
       "      <td>名牌配件</td>\n",
       "      <td>PORTER 和諧童趣 JUPITER</td>\n",
       "      <td>1</td>\n",
       "      <td>5850</td>\n",
       "      <td>沖沖沖</td>\n",
       "      <td>21:20</td>\n",
       "      <td>阿寶一定發</td>\n",
       "      <td>2</td>\n",
       "      <td>0</td>\n",
       "      <td>-50</td>\n",
       "      <td>-48</td>\n",
       "      <td>-46.5</td>\n",
       "    </tr>\n",
       "    <tr>\n",
       "      <th>3</th>\n",
       "      <td>3</td>\n",
       "      <td>2016/03/24</td>\n",
       "      <td>380</td>\n",
       "      <td>18212</td>\n",
       "      <td>名牌配件</td>\n",
       "      <td>PORTER 和諧童趣 JUPITER</td>\n",
       "      <td>1</td>\n",
       "      <td>5850</td>\n",
       "      <td>沖沖沖</td>\n",
       "      <td>21:20</td>\n",
       "      <td>陳小妡</td>\n",
       "      <td>21</td>\n",
       "      <td>20</td>\n",
       "      <td>-525</td>\n",
       "      <td>-504</td>\n",
       "      <td>-488.25</td>\n",
       "    </tr>\n",
       "    <tr>\n",
       "      <th>4</th>\n",
       "      <td>4</td>\n",
       "      <td>2016/03/24</td>\n",
       "      <td>380</td>\n",
       "      <td>18212</td>\n",
       "      <td>名牌配件</td>\n",
       "      <td>PORTER 和諧童趣 JUPITER</td>\n",
       "      <td>1</td>\n",
       "      <td>5850</td>\n",
       "      <td>沖沖沖</td>\n",
       "      <td>21:20</td>\n",
       "      <td>qkfree168</td>\n",
       "      <td>1</td>\n",
       "      <td>0</td>\n",
       "      <td>-25</td>\n",
       "      <td>-24</td>\n",
       "      <td>-23.25</td>\n",
       "    </tr>\n",
       "  </tbody>\n",
       "</table>\n",
       "</div>"
      ],
      "text/plain": [
       "   index        date  final_price  mer_id mer_category              mer_name  \\\n",
       "0      0  2016/03/24          380   18212        名牌配件   PORTER 和諧童趣 JUPITER    \n",
       "1      1  2016/03/24          380   18212        名牌配件   PORTER 和諧童趣 JUPITER    \n",
       "2      2  2016/03/24          380   18212        名牌配件   PORTER 和諧童趣 JUPITER    \n",
       "3      3  2016/03/24          380   18212        名牌配件   PORTER 和諧童趣 JUPITER    \n",
       "4      4  2016/03/24          380   18212        名牌配件   PORTER 和諧童趣 JUPITER    \n",
       "\n",
       "   new  suggested_price winner start_time       name bids_in_auction  \\\n",
       "0    1             5850    沖沖沖      21:20        沖沖沖             140   \n",
       "1    1             5850    沖沖沖      21:20    pat1011             166   \n",
       "2    1             5850    沖沖沖      21:20      阿寶一定發               2   \n",
       "3    1             5850    沖沖沖      21:20        陳小妡              21   \n",
       "4    1             5850    沖沖沖      21:20  qkfree168               1   \n",
       "\n",
       "  auto_in_auction auction_profit auction_profit96 auction_profit93  \n",
       "0             126           1970             2010             2115  \n",
       "1              63          -4150            -3984          -3859.5  \n",
       "2               0            -50              -48            -46.5  \n",
       "3              20           -525             -504          -488.25  \n",
       "4               0            -25              -24           -23.25  "
      ]
     },
     "execution_count": 101,
     "metadata": {},
     "output_type": "execute_result"
    }
   ],
   "source": [
    "data.head()"
   ]
  },
  {
   "cell_type": "code",
   "execution_count": 102,
   "metadata": {
    "collapsed": false
   },
   "outputs": [
    {
     "data": {
      "text/html": [
       "<div>\n",
       "<table border=\"1\" class=\"dataframe\">\n",
       "  <thead>\n",
       "    <tr style=\"text-align: right;\">\n",
       "      <th></th>\n",
       "      <th>name</th>\n",
       "      <th>tt_reg_profit</th>\n",
       "      <th>tt_reg_profit96</th>\n",
       "      <th>tt_reg_profit93</th>\n",
       "      <th>tt_reg_auc</th>\n",
       "      <th>tt_reg_bids</th>\n",
       "      <th>tt_reg_win</th>\n",
       "    </tr>\n",
       "  </thead>\n",
       "  <tbody>\n",
       "    <tr>\n",
       "      <th>0</th>\n",
       "      <td>沖沖沖</td>\n",
       "      <td>-115348</td>\n",
       "      <td>-103358</td>\n",
       "      <td>-94365.50</td>\n",
       "      <td>218</td>\n",
       "      <td>11990</td>\n",
       "      <td>77</td>\n",
       "    </tr>\n",
       "    <tr>\n",
       "      <th>1</th>\n",
       "      <td>pat1011</td>\n",
       "      <td>15627</td>\n",
       "      <td>17553</td>\n",
       "      <td>18997.50</td>\n",
       "      <td>48</td>\n",
       "      <td>1926</td>\n",
       "      <td>21</td>\n",
       "    </tr>\n",
       "    <tr>\n",
       "      <th>2</th>\n",
       "      <td>阿寶一定發</td>\n",
       "      <td>-125</td>\n",
       "      <td>-120</td>\n",
       "      <td>-116.25</td>\n",
       "      <td>3</td>\n",
       "      <td>5</td>\n",
       "      <td>0</td>\n",
       "    </tr>\n",
       "    <tr>\n",
       "      <th>3</th>\n",
       "      <td>陳小妡</td>\n",
       "      <td>-1675</td>\n",
       "      <td>-1608</td>\n",
       "      <td>-1557.75</td>\n",
       "      <td>14</td>\n",
       "      <td>67</td>\n",
       "      <td>0</td>\n",
       "    </tr>\n",
       "    <tr>\n",
       "      <th>4</th>\n",
       "      <td>qkfree168</td>\n",
       "      <td>-22941</td>\n",
       "      <td>-11237</td>\n",
       "      <td>-2459.00</td>\n",
       "      <td>2574</td>\n",
       "      <td>11704</td>\n",
       "      <td>181</td>\n",
       "    </tr>\n",
       "  </tbody>\n",
       "</table>\n",
       "</div>"
      ],
      "text/plain": [
       "        name  tt_reg_profit  tt_reg_profit96  tt_reg_profit93  tt_reg_auc  \\\n",
       "0        沖沖沖        -115348          -103358        -94365.50         218   \n",
       "1    pat1011          15627            17553         18997.50          48   \n",
       "2      阿寶一定發           -125             -120          -116.25           3   \n",
       "3        陳小妡          -1675            -1608         -1557.75          14   \n",
       "4  qkfree168         -22941           -11237         -2459.00        2574   \n",
       "\n",
       "   tt_reg_bids  tt_reg_win  \n",
       "0        11990          77  \n",
       "1         1926          21  \n",
       "2            5           0  \n",
       "3           67           0  \n",
       "4        11704         181  "
      ]
     },
     "execution_count": 102,
     "metadata": {},
     "output_type": "execute_result"
    }
   ],
   "source": [
    "person.head()"
   ]
  },
  {
   "cell_type": "code",
   "execution_count": 103,
   "metadata": {
    "collapsed": true
   },
   "outputs": [],
   "source": [
    "def threegroup(x):\n",
    "    if x <= 12:\n",
    "        return 'fleet'\n",
    "    if 12 < x < 42:\n",
    "        return 'moderate'\n",
    "    if x > 41:\n",
    "        return 'persist'"
   ]
  },
  {
   "cell_type": "code",
   "execution_count": 104,
   "metadata": {
    "collapsed": false
   },
   "outputs": [],
   "source": [
    "person['tt_reg_auc'] = person['tt_reg_auc'].astype(int)\n",
    "person['three_group'] = person['tt_reg_auc'].apply(threegroup)"
   ]
  },
  {
   "cell_type": "code",
   "execution_count": 105,
   "metadata": {
    "collapsed": false
   },
   "outputs": [],
   "source": [
    "# 分群人數\n",
    "people = person.groupby('three_group')['name'].count()"
   ]
  },
  {
   "cell_type": "code",
   "execution_count": 106,
   "metadata": {
    "collapsed": false
   },
   "outputs": [],
   "source": [
    "# 下標次數\n",
    "ttbids = person.groupby('three_group')['tt_reg_bids'].sum()"
   ]
  },
  {
   "cell_type": "code",
   "execution_count": 107,
   "metadata": {
    "collapsed": false
   },
   "outputs": [],
   "source": [
    "# 分群得標數\n",
    "ttwins = person.groupby('three_group')['tt_reg_win'].sum()"
   ]
  },
  {
   "cell_type": "code",
   "execution_count": 108,
   "metadata": {
    "collapsed": false
   },
   "outputs": [],
   "source": [
    "# 分群利潤\n",
    "ttprofit = person.groupby('three_group')['tt_reg_profit'].sum()\n",
    "ttprofit96 = person.groupby('three_group')['tt_reg_profit96'].sum()\n",
    "ttprofit93 = person.groupby('three_group')['tt_reg_profit93'].sum()"
   ]
  },
  {
   "cell_type": "code",
   "execution_count": 109,
   "metadata": {
    "collapsed": false
   },
   "outputs": [],
   "source": [
    "df = people.to_frame()\n",
    "df = df.join(ttbids)\n",
    "df = df.join(ttwins)\n",
    "df = df.join(ttprofit)\n",
    "df = df.join(ttprofit96)\n",
    "df = df.join(ttprofit93)"
   ]
  },
  {
   "cell_type": "code",
   "execution_count": 110,
   "metadata": {
    "collapsed": true
   },
   "outputs": [],
   "source": [
    "df['pro_per_bid'] = df['tt_reg_profit'] / df['tt_reg_bids']"
   ]
  },
  {
   "cell_type": "code",
   "execution_count": 111,
   "metadata": {
    "collapsed": false
   },
   "outputs": [
    {
     "data": {
      "text/html": [
       "<div>\n",
       "<table border=\"1\" class=\"dataframe\">\n",
       "  <thead>\n",
       "    <tr style=\"text-align: right;\">\n",
       "      <th></th>\n",
       "      <th>name</th>\n",
       "      <th>tt_reg_bids</th>\n",
       "      <th>tt_reg_win</th>\n",
       "      <th>tt_reg_profit</th>\n",
       "      <th>tt_reg_profit96</th>\n",
       "      <th>tt_reg_profit93</th>\n",
       "      <th>pro_per_bid</th>\n",
       "    </tr>\n",
       "    <tr>\n",
       "      <th>three_group</th>\n",
       "      <th></th>\n",
       "      <th></th>\n",
       "      <th></th>\n",
       "      <th></th>\n",
       "      <th></th>\n",
       "      <th></th>\n",
       "      <th></th>\n",
       "    </tr>\n",
       "  </thead>\n",
       "  <tbody>\n",
       "    <tr>\n",
       "      <th>fleet</th>\n",
       "      <td>6636</td>\n",
       "      <td>373526</td>\n",
       "      <td>1201</td>\n",
       "      <td>-6050546</td>\n",
       "      <td>-5677020</td>\n",
       "      <td>-5396875.50</td>\n",
       "      <td>-16.198460</td>\n",
       "    </tr>\n",
       "    <tr>\n",
       "      <th>moderate</th>\n",
       "      <td>1007</td>\n",
       "      <td>498353</td>\n",
       "      <td>2528</td>\n",
       "      <td>-3929534</td>\n",
       "      <td>-3431181</td>\n",
       "      <td>-3057416.25</td>\n",
       "      <td>-7.885041</td>\n",
       "    </tr>\n",
       "    <tr>\n",
       "      <th>persist</th>\n",
       "      <td>382</td>\n",
       "      <td>1885735</td>\n",
       "      <td>11235</td>\n",
       "      <td>229573</td>\n",
       "      <td>2115308</td>\n",
       "      <td>3529609.25</td>\n",
       "      <td>0.121742</td>\n",
       "    </tr>\n",
       "  </tbody>\n",
       "</table>\n",
       "</div>"
      ],
      "text/plain": [
       "             name  tt_reg_bids  tt_reg_win  tt_reg_profit  tt_reg_profit96  \\\n",
       "three_group                                                                  \n",
       "fleet        6636       373526        1201       -6050546         -5677020   \n",
       "moderate     1007       498353        2528       -3929534         -3431181   \n",
       "persist       382      1885735       11235         229573          2115308   \n",
       "\n",
       "             tt_reg_profit93  pro_per_bid  \n",
       "three_group                                \n",
       "fleet            -5396875.50   -16.198460  \n",
       "moderate         -3057416.25    -7.885041  \n",
       "persist           3529609.25     0.121742  "
      ]
     },
     "execution_count": 111,
     "metadata": {},
     "output_type": "execute_result"
    }
   ],
   "source": [
    "df"
   ]
  },
  {
   "cell_type": "code",
   "execution_count": 112,
   "metadata": {
    "collapsed": false
   },
   "outputs": [],
   "source": [
    "three_group = person[['name','three_group']]\n",
    "three_group.to_csv('../論文csv/three_gruop.csv',encoding='utf-8')"
   ]
  },
  {
   "cell_type": "code",
   "execution_count": null,
   "metadata": {
    "collapsed": true
   },
   "outputs": [],
   "source": []
  }
 ],
 "metadata": {
  "kernelspec": {
   "display_name": "Python 3",
   "language": "python",
   "name": "python3"
  },
  "language_info": {
   "codemirror_mode": {
    "name": "ipython",
    "version": 3
   },
   "file_extension": ".py",
   "mimetype": "text/x-python",
   "name": "python",
   "nbconvert_exporter": "python",
   "pygments_lexer": "ipython3",
   "version": "3.5.1"
  }
 },
 "nbformat": 4,
 "nbformat_minor": 0
}
